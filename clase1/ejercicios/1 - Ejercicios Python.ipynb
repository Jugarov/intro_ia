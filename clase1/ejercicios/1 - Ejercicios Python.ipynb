{
 "cells": [
  {
   "cell_type": "markdown",
   "metadata": {},
   "source": [
    "# Ejercicios de Python\n",
    "Inteligencia Artificial - Facundo A. Lucianna - CEIA - FIUBA\n",
    "\n",
    "A continuación veamos ejercicios de Python que deben resolver.\n",
    "\n",
    "**Ejercicio 1**: Imprima el texto `”Hola, estoy aprendiendo Python”`. Agregue un comentario de una sola línea antes de la impresión de texto que explique qué hace la función `print()`."
   ]
  },
  {
   "cell_type": "code",
   "execution_count": 1,
   "metadata": {},
   "outputs": [
    {
     "name": "stdout",
     "output_type": "stream",
     "text": [
      "Hola, estoy aprendiendo Python\n"
     ]
    }
   ],
   "source": [
    "# La función print permite mostrar un str en la pantalla o cualquier salida estándar descrita. Se pueden pasar variables \n",
    "# como parámetros de la función, que son convertidas a str automáticamente. Existen otros parámetros de la función para \n",
    "# indicar cómo separar los argumentos, qué caracter devolver al final de la línea, dónde escribir la línea y si la cadena\n",
    "# de salida es o no bufferizada\n",
    "print(\"Hola, estoy aprendiendo Python\")"
   ]
  },
  {
   "cell_type": "markdown",
   "metadata": {},
   "source": [
    "**Ejercicio 2**: Imprima el siguiente texto respetando el formato (use triple \"\"\"):\n",
    "\n",
    "```\n",
    "Sobre el puente de Avignon\n",
    "      Todos bailan, todos bailan\n",
    "Sobre el puente de Avignon\n",
    "      Todos bailan y yo también\n",
    "```"
   ]
  },
  {
   "cell_type": "code",
   "execution_count": 3,
   "metadata": {},
   "outputs": [
    {
     "name": "stdout",
     "output_type": "stream",
     "text": [
      "\n",
      "Sobre el puente de Avignon\n",
      "    Todos bailan, todos bailan\n",
      "Sobre el puente de Avignon\n",
      "    Todos bailan y yo también\n",
      "\n"
     ]
    }
   ],
   "source": [
    "avignon_song = \"\"\"\n",
    "Sobre el puente de Avignon\n",
    "    Todos bailan, todos bailan\n",
    "Sobre el puente de Avignon\n",
    "    Todos bailan y yo también\n",
    "\"\"\"\n",
    "\n",
    "print(avignon_song)"
   ]
  },
  {
   "cell_type": "markdown",
   "metadata": {},
   "source": [
    "**Ejercicio 3**: Crea las siguiente variables:\n",
    "\n",
    "```\n",
    "var1 = 1\n",
    "var2 = 3.14\n",
    "var3 = −8\n",
    "var4 = \"CEIoT\"\n",
    "```\n",
    "\n",
    "1. Realice las siguientes operaciones e imprímalas. Comente en la notebook qué operaciones se hace en cada caso:\n",
    "    1. `var1 + var2`\n",
    "    2. `var1 − var2`\n",
    "    3. `var3 / 3`\n",
    "    4. `var3 // 3`\n",
    "    5. `var3 % 3`\n",
    "    6. `var2 ** 2`\n",
    "    7. `var3 ∗ var2`\n",
    "    8. `var4 + var4`\n",
    "    9. `var4 * ((-1) * var3)`\n",
    "    10. `var4 / var2`\n",
    "2. ¿Todas las operaciones aquí listadas pueden realizar? Si la respuesta es no, cual no se puede realizar? ¿Qué error da Python? ¿Qué significa ese error?\n",
    "\n",
    "<font color=#2e6f40>No, la operación de división no está soportada entre argumentos de tipo `str` y `float`. Python indica esto con la expresión `TypeError`, que señala precisamente una situación en la que se intenta realizar una operación en la que los tipos de dato no son soportados</font>"
   ]
  },
  {
   "cell_type": "code",
   "execution_count": 15,
   "metadata": {},
   "outputs": [
    {
     "name": "stdout",
     "output_type": "stream",
     "text": [
      "4.140000000000001\n",
      "-2.14\n",
      "-2.6666666666666665\n",
      "-3\n",
      "1\n",
      "9.8596\n",
      "-25.12\n",
      "CEIoTCEIoT\n",
      "CEIoTCEIoTCEIoTCEIoTCEIoTCEIoTCEIoTCEIoT\n"
     ]
    },
    {
     "ename": "TypeError",
     "evalue": "unsupported operand type(s) for /: 'str' and 'float'",
     "output_type": "error",
     "traceback": [
      "\u001b[1;31m---------------------------------------------------------------------------\u001b[0m",
      "\u001b[1;31mTypeError\u001b[0m                                 Traceback (most recent call last)",
      "Cell \u001b[1;32mIn[15], line 15\u001b[0m\n\u001b[0;32m     13\u001b[0m \u001b[38;5;28mprint\u001b[39m(var4 \u001b[38;5;241m+\u001b[39m var4)\n\u001b[0;32m     14\u001b[0m \u001b[38;5;28mprint\u001b[39m(var4 \u001b[38;5;241m*\u001b[39m ((\u001b[38;5;241m-\u001b[39m\u001b[38;5;241m1\u001b[39m) \u001b[38;5;241m*\u001b[39m var3))\n\u001b[1;32m---> 15\u001b[0m \u001b[38;5;28mprint\u001b[39m(\u001b[43mvar4\u001b[49m\u001b[43m \u001b[49m\u001b[38;5;241;43m/\u001b[39;49m\u001b[43m \u001b[49m\u001b[43mvar2\u001b[49m)\n",
      "\u001b[1;31mTypeError\u001b[0m: unsupported operand type(s) for /: 'str' and 'float'"
     ]
    }
   ],
   "source": [
    "var1 = 1\n",
    "var2 = 3.14\n",
    "var3 = -8\n",
    "var4 = \"CEIoT\"\n",
    "\n",
    "print(var1 + var2)\n",
    "print(var1 - var2)\n",
    "print(var3 / 3)\n",
    "print(var3 // 3)\n",
    "print(var3 % 3)\n",
    "print(var2 ** 2)\n",
    "print(var3 * var2)\n",
    "print(var4 + var4)\n",
    "print(var4 * ((-1) * var3))\n",
    "print(var4 / var2)"
   ]
  },
  {
   "cell_type": "markdown",
   "metadata": {},
   "source": [
    "**Ejercicio 4**: Cree la variable `pi_string = \"3.1415926\"`\n",
    "1.  Conviertala en `float` (use la función `float()`) y guarda el resultado en la variable `pi_float`.\n",
    "2.  Imprima la variable `pi_float` con solo 3 decimales"
   ]
  },
  {
   "cell_type": "code",
   "execution_count": 35,
   "metadata": {},
   "outputs": [
    {
     "name": "stdout",
     "output_type": "stream",
     "text": [
      "3.142\n",
      "Alternative print format: 3.142\n"
     ]
    }
   ],
   "source": [
    "pi_string = \"3.1415926\"\n",
    "pi_float = float(pi_string)\n",
    "print(\"{:.3f}\".format(pi_float))\n",
    "print(f\"Alternative print format: {pi_float:,.3f}\")"
   ]
  },
  {
   "cell_type": "markdown",
   "metadata": {},
   "source": [
    "**Ejercicio 5**: Crea una variable con el string: `\"Me gusta la comida mexicana\"`.\n",
    "1. Crea una variable que se llame `mexican_food` que sea booleana.\n",
    "2. Mediante control de flujo, imprima condicionalmente la variable string si la variable del apartado 1 es verdadera."
   ]
  },
  {
   "cell_type": "code",
   "execution_count": 23,
   "metadata": {},
   "outputs": [
    {
     "name": "stdout",
     "output_type": "stream",
     "text": [
      "Me gusta la comida mexicana\n"
     ]
    }
   ],
   "source": [
    "mexican_string = \"Me gusta la comida mexicana\"\n",
    "mexican_bool = True\n",
    "\n",
    "if (mexican_bool):\n",
    "    print(mexican_string)\n",
    "else:\n",
    "    print(\"No \" + mexican_string.lower())"
   ]
  },
  {
   "cell_type": "markdown",
   "metadata": {},
   "source": [
    "**Ejercicio 6**: Imprima la fecha y hora actual (utilice la librería [datetime](https://www.w3schools.com/python/python_datetime.asp))"
   ]
  },
  {
   "cell_type": "code",
   "execution_count": 24,
   "metadata": {},
   "outputs": [
    {
     "name": "stdout",
     "output_type": "stream",
     "text": [
      "2024-11-05 09:41:13.364412\n"
     ]
    }
   ],
   "source": [
    "import datetime\n",
    "print(datetime.datetime.now())"
   ]
  },
  {
   "cell_type": "markdown",
   "metadata": {},
   "source": [
    "**Ejercicio 7**: Imprima el calendario del mes de Marzo de 2023 (utilice la librería [calendar](https://www.geeksforgeeks.org/python-calendar-module/))"
   ]
  },
  {
   "cell_type": "code",
   "execution_count": 26,
   "metadata": {},
   "outputs": [
    {
     "name": "stdout",
     "output_type": "stream",
     "text": [
      "     March 2023\n",
      "Mo Tu We Th Fr Sa Su\n",
      "       1  2  3  4  5\n",
      " 6  7  8  9 10 11 12\n",
      "13 14 15 16 17 18 19\n",
      "20 21 22 23 24 25 26\n",
      "27 28 29 30 31\n",
      "\n"
     ]
    }
   ],
   "source": [
    "import calendar\n",
    "print(calendar.month(2023, 3))"
   ]
  },
  {
   "cell_type": "markdown",
   "metadata": {},
   "source": [
    "**Ejercicio 8**: Usando Python resuelva este ejercicio:\n",
    "```\n",
    "Supongamos que tenemos U$D 100, el cual se puede invertir y retornar el 10% extra cada año. Es decir, después del primer año tendríamos 100 * 1.1 = 110, luego de dos años 100 * 1.1 * 1.1 = 121.\n",
    "\n",
    "Calcule la cantidad de plata que uno tendría luego de 7 años, y después de 23 años.\n",
    "```"
   ]
  },
  {
   "cell_type": "code",
   "execution_count": 28,
   "metadata": {},
   "outputs": [
    {
     "name": "stdout",
     "output_type": "stream",
     "text": [
      "Dinero tras 7 años: 194.87171000000012\n",
      "Dinero tras 23 años: 895.430243255239\n"
     ]
    }
   ],
   "source": [
    "base_money = 100\n",
    "interest_rate = 1.1\n",
    "\n",
    "money_7_years = base_money * (interest_rate ** 7)\n",
    "money_23_years = base_money * (interest_rate ** 23)\n",
    "\n",
    "print(\"Dinero tras 7 años:\", money_7_years)\n",
    "print(\"Dinero tras 23 años:\", money_23_years)"
   ]
  },
  {
   "cell_type": "markdown",
   "metadata": {},
   "source": [
    "**Ejercicio 9**: Introduzca el código del punto anterior en una función. Que los argumentos sean la inversión inicial, el interés y la cantidad de años. Obtenga diferentes salidas combinando estas variables."
   ]
  },
  {
   "cell_type": "code",
   "execution_count": 39,
   "metadata": {},
   "outputs": [
    {
     "name": "stdout",
     "output_type": "stream",
     "text": [
      "Dinero base: 1 -- Dinero total tras 1 años: 1.1\n",
      "Dinero base: 1 -- Dinero total tras 5 años: 1.6105100000000006\n",
      "Dinero base: 1 -- Dinero total tras 10 años: 2.5937424601000023\n",
      "Dinero base: 1 -- Dinero total tras 20 años: 6.727499949325611\n",
      "\n",
      "Dinero base: 1 -- Dinero total tras 1 años: 1.2\n",
      "Dinero base: 1 -- Dinero total tras 5 años: 2.4883199999999994\n",
      "Dinero base: 1 -- Dinero total tras 10 años: 6.191736422399997\n",
      "Dinero base: 1 -- Dinero total tras 20 años: 38.33759992447472\n",
      "\n",
      "Dinero base: 1 -- Dinero total tras 1 años: 1.3\n",
      "Dinero base: 1 -- Dinero total tras 5 años: 3.7129300000000005\n",
      "Dinero base: 1 -- Dinero total tras 10 años: 13.785849184900005\n",
      "Dinero base: 1 -- Dinero total tras 20 años: 190.04963774880812\n",
      "\n",
      "Dinero base: 10 -- Dinero total tras 1 años: 11.0\n",
      "Dinero base: 10 -- Dinero total tras 5 años: 16.105100000000007\n",
      "Dinero base: 10 -- Dinero total tras 10 años: 25.937424601000025\n",
      "Dinero base: 10 -- Dinero total tras 20 años: 67.2749994932561\n",
      "\n",
      "Dinero base: 10 -- Dinero total tras 1 años: 12.0\n",
      "Dinero base: 10 -- Dinero total tras 5 años: 24.883199999999995\n",
      "Dinero base: 10 -- Dinero total tras 10 años: 61.917364223999975\n",
      "Dinero base: 10 -- Dinero total tras 20 años: 383.3759992447472\n",
      "\n",
      "Dinero base: 10 -- Dinero total tras 1 años: 13.0\n",
      "Dinero base: 10 -- Dinero total tras 5 años: 37.12930000000001\n",
      "Dinero base: 10 -- Dinero total tras 10 años: 137.85849184900005\n",
      "Dinero base: 10 -- Dinero total tras 20 años: 1900.4963774880812\n",
      "\n",
      "Dinero base: 50 -- Dinero total tras 1 años: 55.00000000000001\n",
      "Dinero base: 50 -- Dinero total tras 5 años: 80.52550000000002\n",
      "Dinero base: 50 -- Dinero total tras 10 años: 129.6871230050001\n",
      "Dinero base: 50 -- Dinero total tras 20 años: 336.37499746628055\n",
      "\n",
      "Dinero base: 50 -- Dinero total tras 1 años: 60.0\n",
      "Dinero base: 50 -- Dinero total tras 5 años: 124.41599999999997\n",
      "Dinero base: 50 -- Dinero total tras 10 años: 309.58682111999985\n",
      "Dinero base: 50 -- Dinero total tras 20 años: 1916.8799962237363\n",
      "\n",
      "Dinero base: 50 -- Dinero total tras 1 años: 65.0\n",
      "Dinero base: 50 -- Dinero total tras 5 años: 185.64650000000003\n",
      "Dinero base: 50 -- Dinero total tras 10 años: 689.2924592450003\n",
      "Dinero base: 50 -- Dinero total tras 20 años: 9502.481887440406\n",
      "\n",
      "Dinero base: 20 -- Dinero total tras 1 años: 22.0\n",
      "Dinero base: 20 -- Dinero total tras 5 años: 32.210200000000015\n",
      "Dinero base: 20 -- Dinero total tras 10 años: 51.87484920200005\n",
      "Dinero base: 20 -- Dinero total tras 20 años: 134.5499989865122\n",
      "\n",
      "Dinero base: 20 -- Dinero total tras 1 años: 24.0\n",
      "Dinero base: 20 -- Dinero total tras 5 años: 49.76639999999999\n",
      "Dinero base: 20 -- Dinero total tras 10 años: 123.83472844799995\n",
      "Dinero base: 20 -- Dinero total tras 20 años: 766.7519984894944\n",
      "\n",
      "Dinero base: 20 -- Dinero total tras 1 años: 26.0\n",
      "Dinero base: 20 -- Dinero total tras 5 años: 74.25860000000002\n",
      "Dinero base: 20 -- Dinero total tras 10 años: 275.7169836980001\n",
      "Dinero base: 20 -- Dinero total tras 20 años: 3800.9927549761624\n",
      "\n"
     ]
    }
   ],
   "source": [
    "def calculateInterest(base_money, interest_rate, years):\n",
    "    projected_money = base_money * (interest_rate ** years)\n",
    "    print(f\"Dinero base: {base_money}\", f\"Dinero total tras {years} años: {projected_money}\", sep=\" -- \")\n",
    "\n",
    "base_money_array = [1, 10, 50, 20]\n",
    "interest_rate_array = [1.1, 1.2, 1.3]\n",
    "years_array = [1, 5, 10, 20]\n",
    "\n",
    "for base in base_money_array:\n",
    "    for interest in interest_rate_array:\n",
    "        for years in years_array:\n",
    "            calculateInterest(base, interest, years)\n",
    "        print(\"\")"
   ]
  },
  {
   "cell_type": "markdown",
   "metadata": {},
   "source": [
    "**Ejercicio 10**: Escriba una función que teste si un número está entre 100 y 2000."
   ]
  },
  {
   "cell_type": "code",
   "execution_count": 46,
   "metadata": {},
   "outputs": [
    {
     "name": "stdout",
     "output_type": "stream",
     "text": [
      "El número no está entre 100 y 2000\n",
      "El número está entre 100 y 2000\n",
      "El número está entre 100 y 2000\n",
      "El número no está entre 100 y 2000\n"
     ]
    }
   ],
   "source": [
    "def rangeCheck(num, lowerBound, upperBound):\n",
    "    num_in_range = num in range(lowerBound, upperBound + 1)\n",
    "    if (num_in_range):\n",
    "        print(f\"El número está entre {lowerBound} y {upperBound}\")\n",
    "    else:\n",
    "        print(f\"El número no está entre {lowerBound} y {upperBound}\")\n",
    "\n",
    "rangeCheck(24, 100, 2000)\n",
    "rangeCheck(425, 100, 2000)\n",
    "rangeCheck(2000, 100, 2000)\n",
    "rangeCheck(2001, 100, 2000)"
   ]
  },
  {
   "cell_type": "markdown",
   "metadata": {},
   "source": [
    "**Ejercicio 11**: Escriba una función que verifique si dado un número natural, si es capicúa (por ejemplo 12321 o 90809)."
   ]
  },
  {
   "cell_type": "code",
   "execution_count": 55,
   "metadata": {},
   "outputs": [
    {
     "name": "stdout",
     "output_type": "stream",
     "text": [
      "12321 es capicúa\n",
      "90809 es capicúa\n",
      "123321 es capicúa\n",
      "En la posición 2 del número 123421, 3 != 4, por lo que no es capicúa\n"
     ]
    }
   ],
   "source": [
    "def checkCapicua(num):\n",
    "    num_string = str(num)\n",
    "    for index in range(len(num_string) // 2):\n",
    "        if (num_string[index] != num_string[-(index + 1)]):\n",
    "            print(f\"En la posición {index} del número {num}, {num_string[index]} != {num_string[-(index + 1)]}, por lo que no es capicúa\")\n",
    "            return\n",
    "    print(f\"{num} es capicúa\")\n",
    "\n",
    "checkCapicua(12321)\n",
    "checkCapicua(90809)\n",
    "checkCapicua(123321)\n",
    "checkCapicua(123421)\n"
   ]
  },
  {
   "cell_type": "markdown",
   "metadata": {},
   "source": [
    "**Ejercicio 12**: \n",
    "1. Escriba una función que dado un string reemplaza todos los caracteres con `\"*\"` menos los últimos 5 caracteres.\n",
    "2. Modifique la función para que un argumento opcional se pueda cambiar cuantos caracteres se quieren dejar sin `\"*\"`."
   ]
  },
  {
   "cell_type": "code",
   "execution_count": 57,
   "metadata": {},
   "outputs": [
    {
     "name": "stdout",
     "output_type": "stream",
     "text": [
      "********************ciona\n",
      "Cadena pública\n",
      "****************\n"
     ]
    }
   ],
   "source": [
    "def censorString(string, publicCharNumber = 5):\n",
    "    new_string = \"\"\n",
    "    for index, char in enumerate(string):\n",
    "        if (index < len(string) - publicCharNumber):\n",
    "            new_string += \"*\"\n",
    "        else:\n",
    "            new_string += char\n",
    "    print(new_string)\n",
    "\n",
    "censorString(\"Probemos si esto funciona\")\n",
    "censorString(\"Cadena pública\", len(\"Cadena pública\"))\n",
    "censorString(\"Censura completa\", 0)"
   ]
  },
  {
   "cell_type": "markdown",
   "metadata": {},
   "source": [
    "**Ejercicio 13**: \n",
    "1. Escriba una función que dado el radio (número flotante) como entrada devuelva el diámetro, circunferencia y área de un círculo.\n",
    "2. Agregue un argumento opcional dimensión que por defecto es 2, si es 3 retorna el diámetro y el volumen de una esfera. Cualquier otro valor, retorne\n",
    "-1."
   ]
  },
  {
   "cell_type": "code",
   "execution_count": 64,
   "metadata": {},
   "outputs": [
    {
     "name": "stdout",
     "output_type": "stream",
     "text": [
      "El círculo tiene diámetro 4.000, perímetro 12.566 y área 12.566\n",
      "El círculo tiene diámetro 4.000 y volumen 33.510\n",
      "Nuestros ojos no están preparados para soportar la visión de una figura redonda en 4D\n"
     ]
    }
   ],
   "source": [
    "import math\n",
    "def roundThingyDimensions(radius, dimension = 2):\n",
    "    if (dimension == 2):\n",
    "        diameter = 2 * radius\n",
    "        perimeter = math.pi * 2 * radius\n",
    "        area = math.pi * (radius ** 2)\n",
    "        print(f\"El círculo tiene diámetro {diameter:,.3f}, perímetro {perimeter:,.3f} y área {area:,.3f}\")\n",
    "        return [diameter, perimeter, area]\n",
    "    if (dimension == 3):\n",
    "        diameter = 2 * radius\n",
    "        volume =  4.0 / 3.0 * math.pi * (radius ** 3)\n",
    "        print(f\"El círculo tiene diámetro {diameter:,.3f} y volumen {volume:,.3f}\")\n",
    "        return [diameter, volume]\n",
    "    else:\n",
    "        print(f\"Nuestros ojos no están preparados para soportar la visión de una figura redonda en {dimension}D\")\n",
    "        return -1\n",
    "    \n",
    "circleParams = roundThingyDimensions(2)\n",
    "sphereParams = roundThingyDimensions(2, 3)\n",
    "biblicallyAccurateRoundThingy = roundThingyDimensions(2.0, 4)"
   ]
  },
  {
   "cell_type": "markdown",
   "metadata": {},
   "source": [
    "**Ejercicio 14**: Genere una lista formada por los números naturales desde el 1 hasta el 9 incluidos llamada `mi_lista` usado list comprehension.\n",
    "1. Imprima el primer, el quinto y último elemento, y además la cantidad de elementos que tiene la lista.\n",
    "2. Cree una lista nueva que incluya solamente desde el segundo al sexto elemento.\n",
    "3. Quite el último elemento de la lista `mi_lista` y guárdelo en una variable llamada `ultimo_elemento`.\n",
    "4. Quite el tercer elemento de la lista `mi_lista`.\n",
    "5. Agregue el número 4 al final de `mi_lista`.\n",
    "6. Agregue el string `\"Soy un string\"` en la tercera posición de `mi_lista`."
   ]
  },
  {
   "cell_type": "code",
   "execution_count": 7,
   "metadata": {},
   "outputs": [
    {
     "name": "stdout",
     "output_type": "stream",
     "text": [
      "Primer elemento: 1 -- Quinto elemento: 5 -- Último elemento: 9 -- Cantidad de elementos en la lista: 9\n",
      "Lista parcial: [3, 4, 5, 6, 7, ]\n",
      "Último elemento de la lista: 9\n",
      "Lista original tras la extracción: [1, 2, 3, 4, 5, 6, 7, 8, ]\n",
      "Lista original tras la extracción: [1, 2, 4, 5, 6, 7, 8, ]\n",
      "Lista original tras la inserción: [1, 2, 4, 5, 6, 7, 8, 4, ]\n",
      "Lista original tras la inserción: [1, 2, Soy un string, 4, 5, 6, 7, 8, 4, ]\n"
     ]
    }
   ],
   "source": [
    "mi_lista = [i for i in range(1, 10)]\n",
    "\n",
    "print(f\"Primer elemento: {mi_lista[0]}\", f\"Quinto elemento: {mi_lista[4]}\", f\"Último elemento: {mi_lista[-1]}\", f\"Cantidad de elementos en la lista: {len(mi_lista)}\", sep = \" -- \")\n",
    "\n",
    "partial_list = mi_lista[2:7]\n",
    "print(\"Lista parcial: [\", end=\"\")\n",
    "for element in partial_list:\n",
    "    print(element, end = \", \")\n",
    "print(\"]\")\n",
    "\n",
    "ultimo_elemento = mi_lista.pop()\n",
    "print(\"Último elemento de la lista:\", ultimo_elemento)\n",
    "print(\"Lista original tras la extracción: [\", end=\"\")\n",
    "for element in mi_lista:\n",
    "    print(element, end = \", \")\n",
    "print(\"]\")\n",
    "\n",
    "mi_lista.pop(2)\n",
    "print(\"Lista original tras la extracción: [\", end=\"\")\n",
    "for element in mi_lista:\n",
    "    print(element, end = \", \")\n",
    "print(\"]\")\n",
    "\n",
    "mi_lista.append(4)\n",
    "print(\"Lista original tras la inserción: [\", end=\"\")\n",
    "for element in mi_lista:\n",
    "    print(element, end = \", \")\n",
    "print(\"]\")\n",
    "\n",
    "mi_lista.insert(2, \"Soy un string\")\n",
    "print(\"Lista original tras la inserción: [\", end=\"\")\n",
    "for element in mi_lista:\n",
    "    print(element, end = \", \")\n",
    "print(\"]\")"
   ]
  },
  {
   "cell_type": "markdown",
   "metadata": {},
   "source": [
    "**Ejercicio 15**: Escriba una función que devuelva una tupla de todos los números impares dado un valor de inicio y final. Siendo el de inicio opcional, con valor por defecto igual a 1."
   ]
  },
  {
   "cell_type": "code",
   "execution_count": 77,
   "metadata": {},
   "outputs": [
    {
     "name": "stdout",
     "output_type": "stream",
     "text": [
      "Tupla creada: (1, 3, 5, 7, 9, 11, 13, )\n",
      "Tupla creada: (11, 13, 15, )\n"
     ]
    }
   ],
   "source": [
    "def oddTupleCreator(endValue, startValue = 1):\n",
    "    odd_tuple = tuple(i for i in range(startValue, endValue + 1) if i % 2 != 0)\n",
    "    print(\"Tupla creada: (\", end=\"\")\n",
    "    for element in odd_tuple:\n",
    "        print(element, end = \", \")\n",
    "    print(\")\")\n",
    "\n",
    "oddTupleCreator(14)\n",
    "oddTupleCreator(15, 10)"
   ]
  },
  {
   "cell_type": "markdown",
   "metadata": {},
   "source": [
    "**Ejercicio 16**: Escriba una función que realice la suma de dos vectores. Para \"armar\" a los vectores vamos a usar listas de igual tamaño. La función debe devolver el vector suma en forma de lista."
   ]
  },
  {
   "cell_type": "code",
   "execution_count": 80,
   "metadata": {},
   "outputs": [
    {
     "data": {
      "text/plain": [
       "[9, 9, 9, 9]"
      ]
     },
     "execution_count": 80,
     "metadata": {},
     "output_type": "execute_result"
    }
   ],
   "source": [
    "def sumVectors(vector_1, vector_2):\n",
    "    # Assume the vectors have the same length\n",
    "    resulting_vector = []\n",
    "    for index in range(len(vector_1)):\n",
    "        resulting_vector.append(vector_1[index] + vector_2[index])\n",
    "    return resulting_vector\n",
    "\n",
    "vector_1 = [1, 2, 3, 4]\n",
    "vector_2 = [8, 7, 6, 5]\n",
    "sumVectors(vector_1, vector_2)"
   ]
  },
  {
   "cell_type": "markdown",
   "metadata": {},
   "source": [
    "**Ejercicio 17**: Cree un diccionario llamado datos_personales con los siguientes datos:\n",
    "```\n",
    "nombre: Pedro\n",
    "apellido: Perez\n",
    "edad: 43\n",
    "```\n",
    "\n",
    "1. Imprima el apellido.\n",
    "2. Cambie el valor de la edad a 24.\n",
    "3. Agregue dos elementos:\n",
    "```\n",
    "    tipo de sangre: A\n",
    "    dirección: Av. Colón 1132.\n",
    "```\n",
    "4. Elimine el elemento tipo de sangre.\n",
    "5. Imprima todo el diccionario."
   ]
  },
  {
   "cell_type": "code",
   "execution_count": 2,
   "metadata": {},
   "outputs": [
    {
     "name": "stdout",
     "output_type": "stream",
     "text": [
      "El apellido es Perez\n",
      "La edad tras el cambio es 24\n",
      "Diccionario completo: {'nombre': 'Pedro', 'apellido': 'Perez', 'edad': 24, 'tipo_de_sangre': 'A', 'direccion': 'Av. Colon 1132'}\n",
      "Diccionario completo: {'nombre': 'Pedro', 'apellido': 'Perez', 'edad': 24, 'direccion': 'Av. Colon 1132'}\n"
     ]
    }
   ],
   "source": [
    "personal_data = {\n",
    "    \"nombre\": \"Pedro\",\n",
    "    \"apellido\": \"Perez\",\n",
    "    \"edad\": 43\n",
    "}\n",
    "\n",
    "print(\"El apellido es\", personal_data[\"apellido\"])\n",
    "\n",
    "personal_data[\"edad\"] = 24\n",
    "print(\"La edad tras el cambio es\", personal_data[\"edad\"])\n",
    "\n",
    "personal_data[\"tipo_de_sangre\"] = \"A\"\n",
    "personal_data[\"direccion\"] = \"Av. Colon 1132\"\n",
    "print(\"Diccionario completo:\", personal_data)\n",
    "\n",
    "personal_data.pop(\"tipo_de_sangre\")\n",
    "print(\"Diccionario completo:\", personal_data)"
   ]
  },
  {
   "cell_type": "markdown",
   "metadata": {},
   "source": [
    "**Ejercicio 18**: Cree un programa que usando while sume los números del 1 a 1000. Al final imprima la suma."
   ]
  },
  {
   "cell_type": "code",
   "execution_count": 4,
   "metadata": {},
   "outputs": [
    {
     "name": "stdout",
     "output_type": "stream",
     "text": [
      "500500\n"
     ]
    }
   ],
   "source": [
    "i = 1\n",
    "sum = 0\n",
    "while (i <= 1000):\n",
    "    sum += i\n",
    "    i += 1\n",
    "print(sum)"
   ]
  },
  {
   "cell_type": "markdown",
   "metadata": {},
   "source": [
    "**Ejercicio 19**: Usando for:\n",
    "1. Imprima todos los elementos de la lista `mi_lista` del ejercicio 14.\n",
    "2. Genere una nueva lista que sea los valores al cuadrado de todos los elementos de `mi_lista` que sean numéricos."
   ]
  },
  {
   "cell_type": "code",
   "execution_count": 10,
   "metadata": {},
   "outputs": [
    {
     "name": "stdout",
     "output_type": "stream",
     "text": [
      "1\n",
      "2\n",
      "Soy un string\n",
      "4\n",
      "5\n",
      "6\n",
      "7\n",
      "8\n",
      "4\n",
      "Nueva lista: [1, 4, 16, 25, 36, 49, 64, 16]\n"
     ]
    }
   ],
   "source": [
    "squared_list = []\n",
    "for element in mi_lista:\n",
    "    if (type(element) != str):\n",
    "        squared_list.append(element ** 2)\n",
    "    print(element)\n",
    "print(\"Nueva lista:\", squared_list)\n",
    "    "
   ]
  },
  {
   "cell_type": "markdown",
   "metadata": {},
   "source": [
    "**Ejercicio 20**: Calcule los primeros 30 números primos"
   ]
  },
  {
   "cell_type": "code",
   "execution_count": 12,
   "metadata": {},
   "outputs": [
    {
     "name": "stdout",
     "output_type": "stream",
     "text": [
      "2\n",
      "3\n",
      "5\n",
      "7\n",
      "11\n",
      "13\n",
      "17\n",
      "19\n",
      "23\n",
      "29\n"
     ]
    }
   ],
   "source": [
    "for i in range(1, 31):\n",
    "    div_counter = 0\n",
    "    for j in range(1, i + 1):\n",
    "        if (i % j == 0):\n",
    "            div_counter += 1\n",
    "    if (div_counter == 2):\n",
    "        print(i)"
   ]
  },
  {
   "cell_type": "markdown",
   "metadata": {},
   "source": [
    "**Ejercicio 21**: Escriba una función que construya el patrón que tenga como argumento de entrada el maximo numero de asterisco de la punta (valor minimo igual a 2):\n",
    "\n",
    "```\n",
    "*\n",
    "**\n",
    "***\n",
    "****\n",
    "*****\n",
    "****\n",
    "***\n",
    "**\n",
    "*\n",
    "```"
   ]
  },
  {
   "cell_type": "code",
   "execution_count": 17,
   "metadata": {},
   "outputs": [
    {
     "name": "stdout",
     "output_type": "stream",
     "text": [
      "Tamaño inválido\n",
      "*\n",
      "**\n",
      "***\n",
      "****\n",
      "***\n",
      "**\n",
      "*\n",
      "*\n",
      "**\n",
      "***\n",
      "****\n",
      "*****\n",
      "******\n",
      "*******\n",
      "********\n",
      "*********\n",
      "**********\n",
      "*********\n",
      "********\n",
      "*******\n",
      "******\n",
      "*****\n",
      "****\n",
      "***\n",
      "**\n",
      "*\n"
     ]
    }
   ],
   "source": [
    "def drawPattern(max_size):\n",
    "    if (max_size < 2):\n",
    "        print(\"Tamaño inválido\")\n",
    "        return\n",
    "    \n",
    "    i = 1\n",
    "    flip = False\n",
    "    while (i != 0):\n",
    "        print(\"*\" * i)\n",
    "        if (i >= max_size):\n",
    "            flip = True\n",
    "\n",
    "        if (not flip):\n",
    "            i += 1\n",
    "        else:\n",
    "            i -= 1\n",
    "\n",
    "drawPattern(1)\n",
    "drawPattern(4)\n",
    "drawPattern(10)"
   ]
  },
  {
   "cell_type": "markdown",
   "metadata": {},
   "source": [
    "**Ejercicio 22**: El matemático aleman Gottfried Leibniz desarrolló un método para aproximar el valor de π:\n",
    "\n",
    "$$ \\pi = 4 \\sum_{n=0}^{\\infty} \\frac{(-1)^n}{2n + 1} $$\n",
    "\n",
    "Escriba una función que mediante un argumento especifique el número de iteraciones usadas para aproximarse usando esta serie e imprima en pantalla el valor resultante."
   ]
  },
  {
   "cell_type": "code",
   "execution_count": 24,
   "metadata": {},
   "outputs": [
    {
     "name": "stdout",
     "output_type": "stream",
     "text": [
      "El número pi aproximado en 1 iteraciones es 4.0\n",
      "El número pi aproximado en 5 iteraciones es 3.3396825396825403\n",
      "El número pi aproximado en 200 iteraciones es 3.136592684838816\n",
      "El número pi aproximado en 200000 iteraciones es 3.1415876535897618\n"
     ]
    }
   ],
   "source": [
    "def approximatePi(max_iterations):\n",
    "    sum = 0\n",
    "    for i in range(max_iterations):\n",
    "        sum += ((-1) ** i) / (2 * i + 1)\n",
    "    sum *= 4\n",
    "    print(f\"El número pi aproximado en {max_iterations} iteraciones es {sum}\")\n",
    "\n",
    "approximatePi(1)\n",
    "approximatePi(5)\n",
    "approximatePi(200)\n",
    "approximatePi(200000)"
   ]
  },
  {
   "cell_type": "markdown",
   "metadata": {},
   "source": [
    "**Ejercicio 25**: Escriba un script para crear una función **lambda** que sume 15 a un número dado pasado como argumento, también cree una función **lambda** que multiplique el argumento x con el argumento y e imprima el resultado."
   ]
  },
  {
   "cell_type": "code",
   "execution_count": 25,
   "metadata": {},
   "outputs": [
    {
     "name": "stdout",
     "output_type": "stream",
     "text": [
      "57\n",
      "18\n"
     ]
    }
   ],
   "source": [
    "sumar_15 = lambda x: x + 15\n",
    "print(sumar_15(42))\n",
    "\n",
    "multiplicar = lambda x, y: x * y\n",
    "print(multiplicar(6, 3))\n"
   ]
  },
  {
   "cell_type": "markdown",
   "metadata": {},
   "source": [
    "**Ejercicio 26**: Un sistema de administración de perros de una veterinaria permite cargar datos del perro:\n",
    "```\n",
    "Nombre del perro\n",
    "Nombre completo del dueño\n",
    "Peso\n",
    "Raza\n",
    "```\n",
    "\n",
    "Defina una clase llamada `Dog` que se inicie con todos los atributos vacíos y que con diferentes métodos se puedan completar la información y mostrar la información."
   ]
  },
  {
   "cell_type": "code",
   "execution_count": 27,
   "metadata": {},
   "outputs": [
    {
     "name": "stdout",
     "output_type": "stream",
     "text": [
      "El perro Pacolo de la raza Cocker pesa 72kg. Su dueño se llama Felipe\n"
     ]
    }
   ],
   "source": [
    "class Dog():\n",
    "    def __init__(self):\n",
    "        self.name = None\n",
    "        self.ownerName = None\n",
    "        self.weight = None\n",
    "        self.race = None\n",
    "\n",
    "    def setName(self, name):\n",
    "        self.name = name\n",
    "    \n",
    "    def setOwnerName(self, ownerName):\n",
    "        self.ownerName = ownerName\n",
    "    \n",
    "    def setWeight(self, weight):\n",
    "        self.weight = weight\n",
    "    \n",
    "    def setRace(self, race):\n",
    "        self.race = race\n",
    "\n",
    "# Estos métodos no son necesarios porque en python no existe la distinción entre atributos públicos y privados\n",
    "dog1 = Dog()\n",
    "dog1.setName(\"Pacolo\")\n",
    "dog1.setOwnerName(\"Felipe\")\n",
    "dog1.setWeight(72)\n",
    "dog1.setRace(\"Cocker\")\n",
    "\n",
    "print(f\"El perro {dog1.name} de la raza {dog1.race} pesa {dog1.weight}kg. Su dueño se llama {dog1.ownerName}\")"
   ]
  }
 ],
 "metadata": {
  "kernelspec": {
   "display_name": "Python 3",
   "language": "python",
   "name": "python3"
  },
  "language_info": {
   "codemirror_mode": {
    "name": "ipython",
    "version": 3
   },
   "file_extension": ".py",
   "mimetype": "text/x-python",
   "name": "python",
   "nbconvert_exporter": "python",
   "pygments_lexer": "ipython3",
   "version": "3.11.9"
  }
 },
 "nbformat": 4,
 "nbformat_minor": 2
}
